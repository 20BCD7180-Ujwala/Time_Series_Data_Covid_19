{
  "nbformat": 4,
  "nbformat_minor": 0,
  "metadata": {
    "colab": {
      "name": "Untitled7.ipynb",
      "provenance": []
    },
    "kernelspec": {
      "name": "python3",
      "display_name": "Python 3"
    },
    "language_info": {
      "name": "python"
    }
  },
  "cells": [
    {
      "cell_type": "markdown",
      "source": [
        "#FEATURE ENGINEERING ON COVID-19 TIME SERIES DATASET\n",
        "#Alokam Ujwala Bharati"
      ],
      "metadata": {
        "id": "CxZzQ5Qa1mFe"
      }
    },
    {
      "cell_type": "code",
      "execution_count": null,
      "metadata": {
        "id": "fjGy5d4B6w0-"
      },
      "outputs": [],
      "source": [
        "import pandas as pd\n",
        "import matplotlib.pyplot as plt\n",
        "import seaborn as sns\n",
        "import numpy as np\n",
        "import datetime as dt\n",
        "from datetime import timedelta\n",
        "from sklearn.linear_model import LinearRegression\n",
        "from sklearn.svm import SVR\n",
        "from statsmodels.tsa.api import Holt\n"
      ]
    },
    {
      "cell_type": "code",
      "source": [
        "covid = pd.read_csv(\"covid_19_data.csv\")"
      ],
      "metadata": {
        "id": "snhG3jI-7Ni6"
      },
      "execution_count": 3,
      "outputs": []
    },
    {
      "cell_type": "code",
      "source": [
        "#Dropping the column\n",
        "covid.drop([\"SNo\"],1,inplace=True)"
      ],
      "metadata": {
        "colab": {
          "base_uri": "https://localhost:8080/"
        },
        "id": "j3QuYW757W5R",
        "outputId": "910623a3-2d76-4cee-86d2-760f453928cb"
      },
      "execution_count": 4,
      "outputs": [
        {
          "output_type": "stream",
          "name": "stderr",
          "text": [
            "/usr/local/lib/python3.7/dist-packages/ipykernel_launcher.py:2: FutureWarning: In a future version of pandas all arguments of DataFrame.drop except for the argument 'labels' will be keyword-only\n",
            "  \n"
          ]
        }
      ]
    },
    {
      "cell_type": "code",
      "source": [
        "print(\"Size of dataset\",covid.shape)\n",
        "print(\"Null values\",covid.isnull().sum())\n",
        "print(\"Datatype of dataset\",covid.dtypes)"
      ],
      "metadata": {
        "colab": {
          "base_uri": "https://localhost:8080/"
        },
        "id": "6JBGzw_c1GpJ",
        "outputId": "0a12bb01-0b7e-425b-ed1d-5d8082eaf807"
      },
      "execution_count": 5,
      "outputs": [
        {
          "output_type": "stream",
          "name": "stdout",
          "text": [
            "Size of dataset (306429, 7)\n",
            "Null values ObservationDate        0\n",
            "Province/State     78100\n",
            "Country/Region         0\n",
            "Last Update            0\n",
            "Confirmed              0\n",
            "Deaths                 0\n",
            "Recovered              0\n",
            "dtype: int64\n",
            "Datatype of dataset ObservationDate     object\n",
            "Province/State      object\n",
            "Country/Region      object\n",
            "Last Update         object\n",
            "Confirmed          float64\n",
            "Deaths             float64\n",
            "Recovered          float64\n",
            "dtype: object\n"
          ]
        }
      ]
    },
    {
      "cell_type": "code",
      "source": [
        "covid.isnull().sum()"
      ],
      "metadata": {
        "colab": {
          "base_uri": "https://localhost:8080/"
        },
        "id": "J_IoWpjs7w6J",
        "outputId": "bbcb9a06-fa29-413b-fd64-d12fa9e31201"
      },
      "execution_count": 6,
      "outputs": [
        {
          "output_type": "execute_result",
          "data": {
            "text/plain": [
              "ObservationDate        0\n",
              "Province/State     78100\n",
              "Country/Region         0\n",
              "Last Update            0\n",
              "Confirmed              0\n",
              "Deaths                 0\n",
              "Recovered              0\n",
              "dtype: int64"
            ]
          },
          "metadata": {},
          "execution_count": 6
        }
      ]
    },
    {
      "cell_type": "code",
      "source": [
        "covid[\"ObservationDate\"] = pd.to_datetime(covid[\"ObservationDate\"])"
      ],
      "metadata": {
        "id": "yA-MGw0071hr"
      },
      "execution_count": 7,
      "outputs": []
    },
    {
      "cell_type": "code",
      "source": [
        "#Grouping different types of cases as per the date\n",
        "datewise = covid.groupby([\"ObservationDate\"]).agg({\"Confirmed\":\"sum\",\"Recovered\":\"sum\",\"Deaths\":\"sum\"})"
      ],
      "metadata": {
        "id": "eL4pT2SM77J-"
      },
      "execution_count": 8,
      "outputs": []
    },
    {
      "cell_type": "code",
      "source": [
        "covid.head()"
      ],
      "metadata": {
        "colab": {
          "base_uri": "https://localhost:8080/",
          "height": 206
        },
        "id": "37HhUoRg8ALA",
        "outputId": "25beb936-3d64-4c2a-94c8-b0fcbdb292c1"
      },
      "execution_count": 9,
      "outputs": [
        {
          "output_type": "execute_result",
          "data": {
            "text/plain": [
              "  ObservationDate Province/State  Country/Region      Last Update  Confirmed  \\\n",
              "0      2020-01-22          Anhui  Mainland China  1/22/2020 17:00        1.0   \n",
              "1      2020-01-22        Beijing  Mainland China  1/22/2020 17:00       14.0   \n",
              "2      2020-01-22      Chongqing  Mainland China  1/22/2020 17:00        6.0   \n",
              "3      2020-01-22         Fujian  Mainland China  1/22/2020 17:00        1.0   \n",
              "4      2020-01-22          Gansu  Mainland China  1/22/2020 17:00        0.0   \n",
              "\n",
              "   Deaths  Recovered  \n",
              "0     0.0        0.0  \n",
              "1     0.0        0.0  \n",
              "2     0.0        0.0  \n",
              "3     0.0        0.0  \n",
              "4     0.0        0.0  "
            ],
            "text/html": [
              "\n",
              "  <div id=\"df-2bc8b85a-1041-45cf-bc74-6fd2beeff334\">\n",
              "    <div class=\"colab-df-container\">\n",
              "      <div>\n",
              "<style scoped>\n",
              "    .dataframe tbody tr th:only-of-type {\n",
              "        vertical-align: middle;\n",
              "    }\n",
              "\n",
              "    .dataframe tbody tr th {\n",
              "        vertical-align: top;\n",
              "    }\n",
              "\n",
              "    .dataframe thead th {\n",
              "        text-align: right;\n",
              "    }\n",
              "</style>\n",
              "<table border=\"1\" class=\"dataframe\">\n",
              "  <thead>\n",
              "    <tr style=\"text-align: right;\">\n",
              "      <th></th>\n",
              "      <th>ObservationDate</th>\n",
              "      <th>Province/State</th>\n",
              "      <th>Country/Region</th>\n",
              "      <th>Last Update</th>\n",
              "      <th>Confirmed</th>\n",
              "      <th>Deaths</th>\n",
              "      <th>Recovered</th>\n",
              "    </tr>\n",
              "  </thead>\n",
              "  <tbody>\n",
              "    <tr>\n",
              "      <th>0</th>\n",
              "      <td>2020-01-22</td>\n",
              "      <td>Anhui</td>\n",
              "      <td>Mainland China</td>\n",
              "      <td>1/22/2020 17:00</td>\n",
              "      <td>1.0</td>\n",
              "      <td>0.0</td>\n",
              "      <td>0.0</td>\n",
              "    </tr>\n",
              "    <tr>\n",
              "      <th>1</th>\n",
              "      <td>2020-01-22</td>\n",
              "      <td>Beijing</td>\n",
              "      <td>Mainland China</td>\n",
              "      <td>1/22/2020 17:00</td>\n",
              "      <td>14.0</td>\n",
              "      <td>0.0</td>\n",
              "      <td>0.0</td>\n",
              "    </tr>\n",
              "    <tr>\n",
              "      <th>2</th>\n",
              "      <td>2020-01-22</td>\n",
              "      <td>Chongqing</td>\n",
              "      <td>Mainland China</td>\n",
              "      <td>1/22/2020 17:00</td>\n",
              "      <td>6.0</td>\n",
              "      <td>0.0</td>\n",
              "      <td>0.0</td>\n",
              "    </tr>\n",
              "    <tr>\n",
              "      <th>3</th>\n",
              "      <td>2020-01-22</td>\n",
              "      <td>Fujian</td>\n",
              "      <td>Mainland China</td>\n",
              "      <td>1/22/2020 17:00</td>\n",
              "      <td>1.0</td>\n",
              "      <td>0.0</td>\n",
              "      <td>0.0</td>\n",
              "    </tr>\n",
              "    <tr>\n",
              "      <th>4</th>\n",
              "      <td>2020-01-22</td>\n",
              "      <td>Gansu</td>\n",
              "      <td>Mainland China</td>\n",
              "      <td>1/22/2020 17:00</td>\n",
              "      <td>0.0</td>\n",
              "      <td>0.0</td>\n",
              "      <td>0.0</td>\n",
              "    </tr>\n",
              "  </tbody>\n",
              "</table>\n",
              "</div>\n",
              "      <button class=\"colab-df-convert\" onclick=\"convertToInteractive('df-2bc8b85a-1041-45cf-bc74-6fd2beeff334')\"\n",
              "              title=\"Convert this dataframe to an interactive table.\"\n",
              "              style=\"display:none;\">\n",
              "        \n",
              "  <svg xmlns=\"http://www.w3.org/2000/svg\" height=\"24px\"viewBox=\"0 0 24 24\"\n",
              "       width=\"24px\">\n",
              "    <path d=\"M0 0h24v24H0V0z\" fill=\"none\"/>\n",
              "    <path d=\"M18.56 5.44l.94 2.06.94-2.06 2.06-.94-2.06-.94-.94-2.06-.94 2.06-2.06.94zm-11 1L8.5 8.5l.94-2.06 2.06-.94-2.06-.94L8.5 2.5l-.94 2.06-2.06.94zm10 10l.94 2.06.94-2.06 2.06-.94-2.06-.94-.94-2.06-.94 2.06-2.06.94z\"/><path d=\"M17.41 7.96l-1.37-1.37c-.4-.4-.92-.59-1.43-.59-.52 0-1.04.2-1.43.59L10.3 9.45l-7.72 7.72c-.78.78-.78 2.05 0 2.83L4 21.41c.39.39.9.59 1.41.59.51 0 1.02-.2 1.41-.59l7.78-7.78 2.81-2.81c.8-.78.8-2.07 0-2.86zM5.41 20L4 18.59l7.72-7.72 1.47 1.35L5.41 20z\"/>\n",
              "  </svg>\n",
              "      </button>\n",
              "      \n",
              "  <style>\n",
              "    .colab-df-container {\n",
              "      display:flex;\n",
              "      flex-wrap:wrap;\n",
              "      gap: 12px;\n",
              "    }\n",
              "\n",
              "    .colab-df-convert {\n",
              "      background-color: #E8F0FE;\n",
              "      border: none;\n",
              "      border-radius: 50%;\n",
              "      cursor: pointer;\n",
              "      display: none;\n",
              "      fill: #1967D2;\n",
              "      height: 32px;\n",
              "      padding: 0 0 0 0;\n",
              "      width: 32px;\n",
              "    }\n",
              "\n",
              "    .colab-df-convert:hover {\n",
              "      background-color: #E2EBFA;\n",
              "      box-shadow: 0px 1px 2px rgba(60, 64, 67, 0.3), 0px 1px 3px 1px rgba(60, 64, 67, 0.15);\n",
              "      fill: #174EA6;\n",
              "    }\n",
              "\n",
              "    [theme=dark] .colab-df-convert {\n",
              "      background-color: #3B4455;\n",
              "      fill: #D2E3FC;\n",
              "    }\n",
              "\n",
              "    [theme=dark] .colab-df-convert:hover {\n",
              "      background-color: #434B5C;\n",
              "      box-shadow: 0px 1px 3px 1px rgba(0, 0, 0, 0.15);\n",
              "      filter: drop-shadow(0px 1px 2px rgba(0, 0, 0, 0.3));\n",
              "      fill: #FFFFFF;\n",
              "    }\n",
              "  </style>\n",
              "\n",
              "      <script>\n",
              "        const buttonEl =\n",
              "          document.querySelector('#df-2bc8b85a-1041-45cf-bc74-6fd2beeff334 button.colab-df-convert');\n",
              "        buttonEl.style.display =\n",
              "          google.colab.kernel.accessAllowed ? 'block' : 'none';\n",
              "\n",
              "        async function convertToInteractive(key) {\n",
              "          const element = document.querySelector('#df-2bc8b85a-1041-45cf-bc74-6fd2beeff334');\n",
              "          const dataTable =\n",
              "            await google.colab.kernel.invokeFunction('convertToInteractive',\n",
              "                                                     [key], {});\n",
              "          if (!dataTable) return;\n",
              "\n",
              "          const docLinkHtml = 'Like what you see? Visit the ' +\n",
              "            '<a target=\"_blank\" href=https://colab.research.google.com/notebooks/data_table.ipynb>data table notebook</a>'\n",
              "            + ' to learn more about interactive tables.';\n",
              "          element.innerHTML = '';\n",
              "          dataTable['output_type'] = 'display_data';\n",
              "          await google.colab.output.renderOutput(dataTable, element);\n",
              "          const docLink = document.createElement('div');\n",
              "          docLink.innerHTML = docLinkHtml;\n",
              "          element.appendChild(docLink);\n",
              "        }\n",
              "      </script>\n",
              "    </div>\n",
              "  </div>\n",
              "  "
            ]
          },
          "metadata": {},
          "execution_count": 9
        }
      ]
    },
    {
      "cell_type": "code",
      "source": [
        "print(\"Current Information\")\n",
        "print(\"Total number of Confirmed cases around the world\",datewise[\"Confirmed\"].iloc[-1])\n",
        "print(\"Total number of Recovered cases around the world\",datewise[\"Recovered\"].iloc[-1])\n",
        "print(\"Total number of Death cases around the world\",datewise[\"Deaths\"].iloc[-1])\n",
        "print(\"Total number of Active cases around the world\",(datewise[\"Confirmed\"].iloc[-1]-datewise[\"Recovered\"].iloc[-1]-datewise[\"Deaths\"].iloc[-1]))\n",
        "print(\"Total number of Closed cases around the world\",(datewise[\"Recovered\"].iloc[-1]+datewise[\"Deaths\"].iloc[-1]))\n"
      ],
      "metadata": {
        "colab": {
          "base_uri": "https://localhost:8080/"
        },
        "id": "GChQjfoe8ExV",
        "outputId": "f5cdb8fd-afbf-4724-e287-40c3c92684d9"
      },
      "execution_count": 10,
      "outputs": [
        {
          "output_type": "stream",
          "name": "stdout",
          "text": [
            "Current Information\n",
            "Total number of Confirmed cases around the world 169951560.0\n",
            "Total number of Recovered cases around the world 107140669.0\n",
            "Total number of Death cases around the world 3533619.0\n",
            "Total number of Active cases around the world 59277272.0\n",
            "Total number of Closed cases around the world 110674288.0\n"
          ]
        }
      ]
    },
    {
      "cell_type": "code",
      "source": [
        "plt.figure(figsize=(15,5))\n",
        "sns.barplot(x=datewise.index.date,y=datewise[\"Confirmed\"]-datewise[\"Recovered\"]-datewise[\"Deaths\"])\n",
        "plt.title(\"Distributions plot for Active Cases\")\n",
        "plt.xticks(rotation=90)"
      ],
      "metadata": {
        "colab": {
          "base_uri": "https://localhost:8080/",
          "height": 1000
        },
        "id": "oOdfAbfr8LGl",
        "outputId": "e202cbb9-c249-488b-b255-7061d31a50d8"
      },
      "execution_count": 11,
      "outputs": [
        {
          "output_type": "execute_result",
          "data": {
            "text/plain": [
              "(array([  0,   1,   2,   3,   4,   5,   6,   7,   8,   9,  10,  11,  12,\n",
              "         13,  14,  15,  16,  17,  18,  19,  20,  21,  22,  23,  24,  25,\n",
              "         26,  27,  28,  29,  30,  31,  32,  33,  34,  35,  36,  37,  38,\n",
              "         39,  40,  41,  42,  43,  44,  45,  46,  47,  48,  49,  50,  51,\n",
              "         52,  53,  54,  55,  56,  57,  58,  59,  60,  61,  62,  63,  64,\n",
              "         65,  66,  67,  68,  69,  70,  71,  72,  73,  74,  75,  76,  77,\n",
              "         78,  79,  80,  81,  82,  83,  84,  85,  86,  87,  88,  89,  90,\n",
              "         91,  92,  93,  94,  95,  96,  97,  98,  99, 100, 101, 102, 103,\n",
              "        104, 105, 106, 107, 108, 109, 110, 111, 112, 113, 114, 115, 116,\n",
              "        117, 118, 119, 120, 121, 122, 123, 124, 125, 126, 127, 128, 129,\n",
              "        130, 131, 132, 133, 134, 135, 136, 137, 138, 139, 140, 141, 142,\n",
              "        143, 144, 145, 146, 147, 148, 149, 150, 151, 152, 153, 154, 155,\n",
              "        156, 157, 158, 159, 160, 161, 162, 163, 164, 165, 166, 167, 168,\n",
              "        169, 170, 171, 172, 173, 174, 175, 176, 177, 178, 179, 180, 181,\n",
              "        182, 183, 184, 185, 186, 187, 188, 189, 190, 191, 192, 193, 194,\n",
              "        195, 196, 197, 198, 199, 200, 201, 202, 203, 204, 205, 206, 207,\n",
              "        208, 209, 210, 211, 212, 213, 214, 215, 216, 217, 218, 219, 220,\n",
              "        221, 222, 223, 224, 225, 226, 227, 228, 229, 230, 231, 232, 233,\n",
              "        234, 235, 236, 237, 238, 239, 240, 241, 242, 243, 244, 245, 246,\n",
              "        247, 248, 249, 250, 251, 252, 253, 254, 255, 256, 257, 258, 259,\n",
              "        260, 261, 262, 263, 264, 265, 266, 267, 268, 269, 270, 271, 272,\n",
              "        273, 274, 275, 276, 277, 278, 279, 280, 281, 282, 283, 284, 285,\n",
              "        286, 287, 288, 289, 290, 291, 292, 293, 294, 295, 296, 297, 298,\n",
              "        299, 300, 301, 302, 303, 304, 305, 306, 307, 308, 309, 310, 311,\n",
              "        312, 313, 314, 315, 316, 317, 318, 319, 320, 321, 322, 323, 324,\n",
              "        325, 326, 327, 328, 329, 330, 331, 332, 333, 334, 335, 336, 337,\n",
              "        338, 339, 340, 341, 342, 343, 344, 345, 346, 347, 348, 349, 350,\n",
              "        351, 352, 353, 354, 355, 356, 357, 358, 359, 360, 361, 362, 363,\n",
              "        364, 365, 366, 367, 368, 369, 370, 371, 372, 373, 374, 375, 376,\n",
              "        377, 378, 379, 380, 381, 382, 383, 384, 385, 386, 387, 388, 389,\n",
              "        390, 391, 392, 393, 394, 395, 396, 397, 398, 399, 400, 401, 402,\n",
              "        403, 404, 405, 406, 407, 408, 409, 410, 411, 412, 413, 414, 415,\n",
              "        416, 417, 418, 419, 420, 421, 422, 423, 424, 425, 426, 427, 428,\n",
              "        429, 430, 431, 432, 433, 434, 435, 436, 437, 438, 439, 440, 441,\n",
              "        442, 443, 444, 445, 446, 447, 448, 449, 450, 451, 452, 453, 454,\n",
              "        455, 456, 457, 458, 459, 460, 461, 462, 463, 464, 465, 466, 467,\n",
              "        468, 469, 470, 471, 472, 473, 474, 475, 476, 477, 478, 479, 480,\n",
              "        481, 482, 483, 484, 485, 486, 487, 488, 489, 490, 491, 492, 493]),\n",
              " <a list of 494 Text major ticklabel objects>)"
            ]
          },
          "metadata": {},
          "execution_count": 11
        },
        {
          "output_type": "display_data",
          "data": {
            "text/plain": [
              "<Figure size 1080x360 with 1 Axes>"
            ],
            "image/png": "[encoded data removed]"
          },
          "metadata": {
            "needs_background": "light"
          }
        }
      ]
    },
    {
      "cell_type": "code",
      "source": [
        "plt.figure(figsize=(15,5))\n",
        "sns.barplot(x=datewise.index.date,y=datewise[\"Recovered\"]+datewise[\"Deaths\"])\n",
        "plt.title(\"Distribution plot for Closed Cases\")\n",
        "plt.xticks(rotation=90)"
      ],
      "metadata": {
        "colab": {
          "base_uri": "https://localhost:8080/",
          "height": 1000
        },
        "id": "fQP6HPqj8Uou",
        "outputId": "266dc953-12ac-4538-abf9-c4945d0931a9"
      },
      "execution_count": 12,
      "outputs": [
        {
          "output_type": "execute_result",
          "data": {
            "text/plain": [
              "(array([  0,   1,   2,   3,   4,   5,   6,   7,   8,   9,  10,  11,  12,\n",
              "         13,  14,  15,  16,  17,  18,  19,  20,  21,  22,  23,  24,  25,\n",
              "         26,  27,  28,  29,  30,  31,  32,  33,  34,  35,  36,  37,  38,\n",
              "         39,  40,  41,  42,  43,  44,  45,  46,  47,  48,  49,  50,  51,\n",
              "         52,  53,  54,  55,  56,  57,  58,  59,  60,  61,  62,  63,  64,\n",
              "         65,  66,  67,  68,  69,  70,  71,  72,  73,  74,  75,  76,  77,\n",
              "         78,  79,  80,  81,  82,  83,  84,  85,  86,  87,  88,  89,  90,\n",
              "         91,  92,  93,  94,  95,  96,  97,  98,  99, 100, 101, 102, 103,\n",
              "        104, 105, 106, 107, 108, 109, 110, 111, 112, 113, 114, 115, 116,\n",
              "        117, 118, 119, 120, 121, 122, 123, 124, 125, 126, 127, 128, 129,\n",
              "        130, 131, 132, 133, 134, 135, 136, 137, 138, 139, 140, 141, 142,\n",
              "        143, 144, 145, 146, 147, 148, 149, 150, 151, 152, 153, 154, 155,\n",
              "        156, 157, 158, 159, 160, 161, 162, 163, 164, 165, 166, 167, 168,\n",
              "        169, 170, 171, 172, 173, 174, 175, 176, 177, 178, 179, 180, 181,\n",
              "        182, 183, 184, 185, 186, 187, 188, 189, 190, 191, 192, 193, 194,\n",
              "        195, 196, 197, 198, 199, 200, 201, 202, 203, 204, 205, 206, 207,\n",
              "        208, 209, 210, 211, 212, 213, 214, 215, 216, 217, 218, 219, 220,\n",
              "        221, 222, 223, 224, 225, 226, 227, 228, 229, 230, 231, 232, 233,\n",
              "        234, 235, 236, 237, 238, 239, 240, 241, 242, 243, 244, 245, 246,\n",
              "        247, 248, 249, 250, 251, 252, 253, 254, 255, 256, 257, 258, 259,\n",
              "        260, 261, 262, 263, 264, 265, 266, 267, 268, 269, 270, 271, 272,\n",
              "        273, 274, 275, 276, 277, 278, 279, 280, 281, 282, 283, 284, 285,\n",
              "        286, 287, 288, 289, 290, 291, 292, 293, 294, 295, 296, 297, 298,\n",
              "        299, 300, 301, 302, 303, 304, 305, 306, 307, 308, 309, 310, 311,\n",
              "        312, 313, 314, 315, 316, 317, 318, 319, 320, 321, 322, 323, 324,\n",
              "        325, 326, 327, 328, 329, 330, 331, 332, 333, 334, 335, 336, 337,\n",
              "        338, 339, 340, 341, 342, 343, 344, 345, 346, 347, 348, 349, 350,\n",
              "        351, 352, 353, 354, 355, 356, 357, 358, 359, 360, 361, 362, 363,\n",
              "        364, 365, 366, 367, 368, 369, 370, 371, 372, 373, 374, 375, 376,\n",
              "        377, 378, 379, 380, 381, 382, 383, 384, 385, 386, 387, 388, 389,\n",
              "        390, 391, 392, 393, 394, 395, 396, 397, 398, 399, 400, 401, 402,\n",
              "        403, 404, 405, 406, 407, 408, 409, 410, 411, 412, 413, 414, 415,\n",
              "        416, 417, 418, 419, 420, 421, 422, 423, 424, 425, 426, 427, 428,\n",
              "        429, 430, 431, 432, 433, 434, 435, 436, 437, 438, 439, 440, 441,\n",
              "        442, 443, 444, 445, 446, 447, 448, 449, 450, 451, 452, 453, 454,\n",
              "        455, 456, 457, 458, 459, 460, 461, 462, 463, 464, 465, 466, 467,\n",
              "        468, 469, 470, 471, 472, 473, 474, 475, 476, 477, 478, 479, 480,\n",
              "        481, 482, 483, 484, 485, 486, 487, 488, 489, 490, 491, 492, 493]),\n",
              " <a list of 494 Text major ticklabel objects>)"
            ]
          },
          "metadata": {},
          "execution_count": 12
        },
        {
          "output_type": "display_data",
          "data": {
            "text/plain": [
              "<Figure size 1080x360 with 1 Axes>"
            ],
            "image/png": "[encoded data removed]"
          },
          "metadata": {
            "needs_background": "light"
          }
        }
      ]
    },
    {
      "cell_type": "code",
      "source": [
        "datewise[\"WeekofYear\"] = datewise.index.weekofyear\n",
        "week_num = []\n",
        "weekwise_confirmed = []\n",
        "weekwise_recovered = []\n",
        "weekwise_deaths = []\n",
        "w = 1\n",
        "for i in list(datewise[\"WeekofYear\"].unique()):\n",
        "    weekwise_confirmed.append(datewise[datewise[\"WeekofYear\"]==i][\"Confirmed\"].iloc[-1])\n",
        "    weekwise_recovered.append(datewise[datewise[\"WeekofYear\"]==i][\"Recovered\"].iloc[-1])\n",
        "    weekwise_deaths.append(datewise[datewise[\"WeekofYear\"]==i][\"Deaths\"].iloc[-1])\n",
        "    week_num.append(w)\n",
        "    w=w+1\n",
        "plt.figure(figsize=(8,5))\n",
        "plt.plot(week_num,weekwise_confirmed,linewidth=3)\n",
        "plt.plot(week_num,weekwise_recovered,linewidth =3)\n",
        "plt.plot(week_num,weekwise_deaths,linewidth = 3)\n",
        "plt.xlabel(\"WeekNumber\")\n",
        "plt.ylabel(\"Number of cases\")\n",
        "plt.title(\"Weekly Progress of different types of cases\")"
      ],
      "metadata": {
        "colab": {
          "base_uri": "https://localhost:8080/",
          "height": 424
        },
        "id": "vRzjeFAz8bIi",
        "outputId": "bb9a063b-0f98-4fdf-fa7b-8c01c2cbb02e"
      },
      "execution_count": 13,
      "outputs": [
        {
          "output_type": "stream",
          "name": "stderr",
          "text": [
            "/usr/local/lib/python3.7/dist-packages/ipykernel_launcher.py:1: FutureWarning: weekofyear and week have been deprecated, please use DatetimeIndex.isocalendar().week instead, which returns a Series.  To exactly reproduce the behavior of week and weekofyear and return an Index, you may call pd.Int64Index(idx.isocalendar().week)\n",
            "  \"\"\"Entry point for launching an IPython kernel.\n"
          ]
        },
        {
          "output_type": "execute_result",
          "data": {
            "text/plain": [
              "Text(0.5, 1.0, 'Weekly Progress of different types of cases')"
            ]
          },
          "metadata": {},
          "execution_count": 13
        },
        {
          "output_type": "display_data",
          "data": {
            "text/plain": [
              "<Figure size 576x360 with 1 Axes>"
            ],
            "image/png": "[encoded data removed]"
          },
          "metadata": {
            "needs_background": "light"
          }
        }
      ]
    },
    {
      "cell_type": "code",
      "source": [
        "df_confirmed=pd.Series(weekwise_confirmed).diff().fillna(0)\n",
        "df_confirmed[18]=0"
      ],
      "metadata": {
        "id": "3tLNTLOJ8i1w"
      },
      "execution_count": 14,
      "outputs": []
    },
    {
      "cell_type": "code",
      "source": [
        "df_deaths=pd.Series(weekwise_deaths).diff().fillna(0)\n",
        "df_deaths[18]=0"
      ],
      "metadata": {
        "id": "t0wziyQ28m-Y"
      },
      "execution_count": 15,
      "outputs": []
    },
    {
      "cell_type": "code",
      "source": [
        "fig,(ax1,ax2) = plt.subplots(1,2,figsize=(30,4))\n",
        "sns.barplot(x=week_num,y=df_confirmed,ax=ax1)\n",
        "sns.barplot(x=week_num,y= df_deaths,ax=ax2)\n",
        "ax1.set_xlabel(\"Week Number\")\n",
        "ax2.set_xlabel(\"Week Number\")\n",
        "ax1.set_ylabel(\"Numberof Confirmed cases\")\n",
        "ax2.set_ylabel(\"Numberof Death cases\")\n",
        "ax1.set_title(\"Weekly increase in number of Confirmed cases\")\n",
        "ax2.set_title(\"Weekly increase in number of Death Cases\")\n",
        "# plt.show()"
      ],
      "metadata": {
        "colab": {
          "base_uri": "https://localhost:8080/",
          "height": 197
        },
        "id": "ZxiNhfHf8rEO",
        "outputId": "945457fe-c0b9-4c66-86ab-5dd9e2954c5c"
      },
      "execution_count": 16,
      "outputs": [
        {
          "output_type": "execute_result",
          "data": {
            "text/plain": [
              "Text(0.5, 1.0, 'Weekly increase in number of Death Cases')"
            ]
          },
          "metadata": {},
          "execution_count": 16
        },
        {
          "output_type": "display_data",
          "data": {
            "text/plain": [
              "<Figure size 2160x288 with 2 Axes>"
            ],
            "image/png": "[encoded data removed]"
          },
          "metadata": {
            "needs_background": "light"
          }
        }
      ]
    },
    {
      "cell_type": "code",
      "source": [
        "print(\"Average increase in number of Confirmed cases everyday:\",np.round(datewise[\"Confirmed\"].diff().fillna(0).mean()))\n",
        "print(\"Average increase in number of Recovered cases everyday:\",np.round(datewise[\"Recovered\"].diff().fillna(0).mean()))\n",
        "print(\"Average increase in number of Death cases everyday:\",np.round(datewise[\"Deaths\"].diff().fillna(0).mean()))\n",
        "\n",
        "plt.figure(figsize=(15,6))\n",
        "plt.plot(datewise[\"Confirmed\"].diff().fillna(0),label=\"Daily increase in confirmed cases\",linewidth=3)\n",
        "plt.plot(df_demo,label=\"Daily increase in recovered cases\",linewidth=3)\n",
        "plt.plot(datewise[\"Deaths\"].diff().fillna(0),label=\"Daily increase in death cases\",linewidth=3)\n",
        "plt.xlabel(\"Timestamp\")\n",
        "plt.ylabel(\"Daily increase\")\n",
        "plt.title(\"Daily increase\")\n",
        "plt.legend()\n",
        "plt.xticks(rotation=90)\n",
        "plt.show()"
      ],
      "metadata": {
        "colab": {
          "base_uri": "https://localhost:8080/",
          "height": 490
        },
        "id": "XgbM5B5V9CIo",
        "outputId": "a16d8a75-2fb2-46d3-b222-ea0b83e509be"
      },
      "execution_count": null,
      "outputs": [
        {
          "output_type": "stream",
          "name": "stdout",
          "text": [
            "Average increase in number of Confirmed cases everyday: 121396.0\n",
            "Average increase in number of Recovered cases everyday: 89546.0\n",
            "Average increase in number of Death cases everyday: 2341.0\n"
          ]
        },
        {
          "output_type": "display_data",
          "data": {
            "text/plain": [
              "<Figure size 1080x432 with 1 Axes>"
            ],
            "image/png": "[encoded data removed]"
          },
          "metadata": {
            "needs_background": "light"
          }
        }
      ]
    },
    {
      "cell_type": "code",
      "source": [
        "#Country wise analysis\n",
        "#Calculating Country wise Mortality rate\n",
        "countrywise= covid[covid[\"ObservationDate\"]==covid[\"ObservationDate\"].max()].groupby([\"Country/Region\"]).agg({\"Confirmed\":\"sum\",\"Recovered\":\"sum\",\"Deaths\":\"sum\"}).sort_values([\"Confirmed\"],ascending=False)\n",
        "countrywise[\"Mortality\"]=(countrywise[\"Deaths\"]/countrywise[\"Recovered\"])*100\n",
        "countrywise[\"Recovered\"]=(countrywise[\"Recovered\"]/countrywise[\"Confirmed\"])*100"
      ],
      "metadata": {
        "id": "7CDcn2z19lWw"
      },
      "execution_count": null,
      "outputs": []
    },
    {
      "cell_type": "code",
      "source": [
        "fig,(ax1,ax2)=plt.subplots(1,2,figsize=(25,10))\n",
        "top_15confirmed = countrywise.sort_values([\"Confirmed\"],ascending=False).head(15)\n",
        "top_15deaths = countrywise.sort_values([\"Deaths\"],ascending=False).head(15)\n",
        "sns.barplot(x=top_15confirmed[\"Confirmed\"],y=top_15confirmed.index,ax=ax1)\n",
        "ax1.set_title(\"Top 15 countries as per number of confirmed cases\")\n",
        "sns.barplot(x=top_15deaths[\"Deaths\"],y=top_15deaths.index,ax=ax2)\n",
        "ax2.set_title(\"Top 15 countries as per number of death cases\")"
      ],
      "metadata": {
        "colab": {
          "base_uri": "https://localhost:8080/",
          "height": 436
        },
        "id": "Na_05dbj9px4",
        "outputId": "fdc74178-7c30-43bf-e7da-fa59b85c2ec2"
      },
      "execution_count": null,
      "outputs": [
        {
          "output_type": "execute_result",
          "data": {
            "text/plain": [
              "Text(0.5, 1.0, 'Top 15 countries as per number of death cases')"
            ]
          },
          "metadata": {},
          "execution_count": 36
        },
        {
          "output_type": "display_data",
          "data": {
            "text/plain": [
              "<Figure size 1800x720 with 2 Axes>"
            ],
            "image/png": "[encoded data removed]"
          },
          "metadata": {
            "needs_background": "light"
          }
        }
      ]
    },
    {
      "cell_type": "code",
      "source": [
        "#Data Anlaysis for India\n",
        "india_data = covid[covid[\"Country/Region\"]==\"India\"]\n",
        "datewise_india = india_data.groupby([\"ObservationDate\"]).agg({\"Confirmed\":\"sum\",\"Recovered\":\"sum\",\"Deaths\":\"sum\"})\n",
        "print(datewise_india.iloc[-1])\n",
        "print(\"Total Active Cases\",datewise_india[\"Confirmed\"].iloc[-1]-datewise_india[\"Recovered\"].iloc[-1]-datewise_india[\"Deaths\"].iloc[-1])\n",
        "print(\"Total Closed Cases\",datewise_india[\"Recovered\"].iloc[-1]+datewise_india[\"Deaths\"].iloc[-1])"
      ],
      "metadata": {
        "colab": {
          "base_uri": "https://localhost:8080/"
        },
        "id": "qH1Ep07t9tla",
        "outputId": "d339a0a8-3224-4e71-a784-8cf0e1fede69"
      },
      "execution_count": null,
      "outputs": [
        {
          "output_type": "stream",
          "name": "stdout",
          "text": [
            "Confirmed    1428805.0\n",
            "Recovered    1248482.0\n",
            "Deaths          9624.0\n",
            "Name: 2021-05-02 00:00:00, dtype: float64\n",
            "Total Active Cases 170699.0\n",
            "Total Closed Cases 1258106.0\n"
          ]
        }
      ]
    },
    {
      "cell_type": "code",
      "source": [
        "#Data Anlaysis for US\n",
        "us_data = covid[covid[\"Country/Region\"]==\"US\"]\n",
        "datewise_us = us_data.groupby([\"ObservationDate\"]).agg({\"Confirmed\":\"sum\",\"Recovered\":\"sum\",\"Deaths\":\"sum\"})\n",
        "print(datewise_us.iloc[-1])\n",
        "print(\"Total Active Cases\",datewise_us[\"Confirmed\"].iloc[-1]-datewise_us[\"Recovered\"].iloc[-1]-datewise_us[\"Deaths\"].iloc[-1])\n",
        "print(\"Total Closed Cases\",datewise_us[\"Recovered\"].iloc[-1]+datewise_us[\"Deaths\"].iloc[-1])"
      ],
      "metadata": {
        "colab": {
          "base_uri": "https://localhost:8080/"
        },
        "id": "P_9IT7hI9zPq",
        "outputId": "b73b60d0-f160-4b37-be7c-24fd1e090065"
      },
      "execution_count": null,
      "outputs": [
        {
          "output_type": "stream",
          "name": "stdout",
          "text": [
            "Confirmed    1796777.0\n",
            "Recovered          0.0\n",
            "Deaths         34347.0\n",
            "Name: 2021-05-02 00:00:00, dtype: float64\n",
            "Total Active Cases 1762430.0\n",
            "Total Closed Cases 34347.0\n"
          ]
        }
      ]
    },
    {
      "cell_type": "code",
      "source": [
        "datewise_india[\"WeekofYear\"] = datewise_india.index.weekofyear\n",
        "week_num_india = []\n",
        "india_weekwise_confirmed = []\n",
        "india_weekwise_recovered = []\n",
        "india_weekwise_deaths = []\n",
        "w = 1\n",
        "for i in list(datewise_india[\"WeekofYear\"].unique()):\n",
        "    india_weekwise_confirmed.append(datewise_india[datewise_india[\"WeekofYear\"]==i][\"Confirmed\"].iloc[-1])\n",
        "    india_weekwise_recovered.append(datewise_india[datewise_india[\"WeekofYear\"]==i][\"Recovered\"].iloc[-1])\n",
        "    india_weekwise_deaths.append(datewise_india[datewise_india[\"WeekofYear\"]==i][\"Deaths\"].iloc[-1])\n",
        "    week_num_india.append(w)\n",
        "    w=w+1\n",
        "plt.figure(figsize=(8,5))\n",
        "plt.plot(week_num_india,india_weekwise_confirmed,linewidth=3)\n",
        "plt.plot(week_num_india,india_weekwise_recovered,linewidth =3)\n",
        "plt.plot(week_num_india,india_weekwise_deaths,linewidth = 3)\n",
        "plt.xlabel(\"WeekNumber\")\n",
        "plt.ylabel(\"Number of cases\")\n",
        "plt.title(\"Weekly Progress of different types of cases\")"
      ],
      "metadata": {
        "colab": {
          "base_uri": "https://localhost:8080/",
          "height": 424
        },
        "id": "Z-TtVlyv941C",
        "outputId": "8647a4e1-b912-4ea4-dcf3-159f35b7c2c4"
      },
      "execution_count": null,
      "outputs": [
        {
          "output_type": "stream",
          "name": "stderr",
          "text": [
            "/usr/local/lib/python3.7/dist-packages/ipykernel_launcher.py:1: FutureWarning: weekofyear and week have been deprecated, please use DatetimeIndex.isocalendar().week instead, which returns a Series.  To exactly reproduce the behavior of week and weekofyear and return an Index, you may call pd.Int64Index(idx.isocalendar().week)\n",
            "  \"\"\"Entry point for launching an IPython kernel.\n"
          ]
        },
        {
          "output_type": "execute_result",
          "data": {
            "text/plain": [
              "Text(0.5, 1.0, 'Weekly Progress of different types of cases')"
            ]
          },
          "metadata": {},
          "execution_count": 39
        },
        {
          "output_type": "display_data",
          "data": {
            "text/plain": [
              "<Figure size 576x360 with 1 Axes>"
            ],
            "image/png": "[encoded data removed]"
          },
          "metadata": {
            "needs_background": "light"
          }
        }
      ]
    },
    {
      "cell_type": "code",
      "source": [
        "max_ind = datewise_india[\"Confirmed\"].max()\n",
        "china_data = covid[covid[\"Country/Region\"]==\"Mainland China\"]\n",
        "Italy_data = covid[covid[\"Country/Region\"]==\"Italy\"]\n",
        "US_data = covid[covid[\"Country/Region\"]==\"US\"]\n",
        "spain_data = covid[covid[\"Country/Region\"]==\"Spain\"]\n",
        "datewise_china = china_data.groupby([\"ObservationDate\"]).agg({\"Confirmed\":\"sum\",\"Recovered\":\"sum\",\"Deaths\":\"sum\"})\n",
        "datewise_Italy = Italy_data.groupby([\"ObservationDate\"]).agg({\"Confirmed\":\"sum\",\"Recovered\":\"sum\",\"Deaths\":\"sum\"})\n",
        "datewise_US=US_data.groupby([\"ObservationDate\"]).agg({\"Confirmed\":\"sum\",\"Recovered\":\"sum\",\"Deaths\":\"sum\"})\n",
        "datewise_Spain=spain_data.groupby([\"ObservationDate\"]).agg({\"Confirmed\":\"sum\",\"Recovered\":\"sum\",\"Deaths\":\"sum\"})\n",
        "print(\"It took\",datewise_india[datewise_india[\"Confirmed\"]>0].shape[0],\"days in India to reach\",max_ind,\"Confirmed Cases\")\n",
        "print(\"It took\",datewise_Italy[(datewise_Italy[\"Confirmed\"]>0)&(datewise_Italy[\"Confirmed\"]<=max_ind)].shape[0],\"days in Italy to reach number of Confirmed Cases\")\n",
        "print(\"It took\",datewise_US[(datewise_US[\"Confirmed\"]>0)&(datewise_US[\"Confirmed\"]<=max_ind)].shape[0],\"days in US to reach number of Confirmed Cases\")\n",
        "print(\"It took\",datewise_Spain[(datewise_Spain[\"Confirmed\"]>0)&(datewise_Spain[\"Confirmed\"]<=max_ind)].shape[0],\"days in Spain to reach number of Confirmed Cases\")\n",
        "print(\"It took\",datewise_china[(datewise_china[\"Confirmed\"]>0)&(datewise_china[\"Confirmed\"]<=max_ind)].shape[0],\"days in China to reach number of Confirmed Cases\")"
      ],
      "metadata": {
        "colab": {
          "base_uri": "https://localhost:8080/"
        },
        "id": "tyo0rbQn-ADZ",
        "outputId": "5945724e-c11c-44bc-ef01-f0c39aedc95e"
      },
      "execution_count": null,
      "outputs": [
        {
          "output_type": "stream",
          "name": "stdout",
          "text": [
            "It took 459 days in India to reach 19557457 Confirmed Cases\n",
            "It took 458 days in Italy to reach number of Confirmed Cases\n",
            "It took 343 days in US to reach number of Confirmed Cases\n",
            "It took 457 days in Spain to reach number of Confirmed Cases\n",
            "It took 467 days in China to reach number of Confirmed Cases\n"
          ]
        }
      ]
    },
    {
      "cell_type": "code",
      "source": [
        "datewise[\"Days Since\"]=datewise.index-datewise.index[0]\n",
        "datewise[\"Days Since\"] = datewise[\"Days Since\"].dt.days\n",
        "train_ml = datewise.iloc[:int(datewise.shape[0]*0.95)]\n",
        "valid_ml = datewise.iloc[:int(datewise.shape[0]*0.95):]\n",
        "model_scores=[]"
      ],
      "metadata": {
        "id": "yU6zVRc3-GJJ"
      },
      "execution_count": null,
      "outputs": []
    },
    {
      "cell_type": "code",
      "source": [
        "lin_reg = LinearRegression(normalize=True)\n",
        "svm = SVR(C=1,degree=5,kernel='poly',epsilon=0.001)\n",
        "lin_reg.fit(np.array(train_ml[\"Days Since\"]).reshape(-1,1),np.array(train_ml[\"Confirmed\"]).reshape(-1,1))\n",
        "svm.fit(np.array(train_ml[\"Days Since\"]).reshape(-1,1),np.array(train_ml[\"Confirmed\"]).reshape(-1,1))"
      ],
      "metadata": {
        "colab": {
          "base_uri": "https://localhost:8080/"
        },
        "id": "VQFtTcmw-KhV",
        "outputId": "42f4a5f0-90e6-40b3-d703-5f1ca5df510d"
      },
      "execution_count": null,
      "outputs": [
        {
          "output_type": "stream",
          "name": "stderr",
          "text": [
            "/usr/local/lib/python3.7/dist-packages/sklearn/linear_model/_base.py:145: FutureWarning: 'normalize' was deprecated in version 1.0 and will be removed in 1.2.\n",
            "If you wish to scale the data, use Pipeline with a StandardScaler in a preprocessing stage. To reproduce the previous behavior:\n",
            "\n",
            "from sklearn.pipeline import make_pipeline\n",
            "\n",
            "model = make_pipeline(StandardScaler(with_mean=False), LinearRegression())\n",
            "\n",
            "If you wish to pass a sample_weight parameter, you need to pass it as a fit parameter to each step of the pipeline as follows:\n",
            "\n",
            "kwargs = {s[0] + '__sample_weight': sample_weight for s in model.steps}\n",
            "model.fit(X, y, **kwargs)\n",
            "\n",
            "\n",
            "  FutureWarning,\n",
            "/usr/local/lib/python3.7/dist-packages/sklearn/utils/validation.py:993: DataConversionWarning: A column-vector y was passed when a 1d array was expected. Please change the shape of y to (n_samples, ), for example using ravel().\n",
            "  y = column_or_1d(y, warn=True)\n"
          ]
        },
        {
          "output_type": "execute_result",
          "data": {
            "text/plain": [
              "SVR(C=1, degree=5, epsilon=0.001, kernel='poly')"
            ]
          },
          "metadata": {},
          "execution_count": 42
        }
      ]
    },
    {
      "cell_type": "code",
      "source": [
        "prediction_valid_lin_reg = lin_reg.predict(np.array(valid_ml[\"Days Since\"]).reshape(-1,1))\n",
        "prediction_valid_svm = svm.predict(np.array(valid_ml[\"Days Since\"]).reshape(-1,1))"
      ],
      "metadata": {
        "id": "EGGolmFL-Pcc"
      },
      "execution_count": null,
      "outputs": []
    },
    {
      "cell_type": "code",
      "source": [
        "new_date = []\n",
        "new_actual=[]\n",
        "new_prediction_lr=[]\n",
        "new_prediction_svm=[]\n",
        "for i in range(1,18):\n",
        "    new_date.append(datewise.index[-1]+timedelta(days=i)) \n",
        "    new_prediction_lr.append(lin_reg.predict(np.array(datewise[\"Days Since\"].max()+i).reshape(-1,1))[0][0])\n",
        "    new_prediction_svm.append(svm.predict(np.array(datewise[\"Days Since\"].max()+i).reshape(-1,1))[0])\n",
        "pd.set_option(\"display.float_format\",lambda x: '%.f' % x)\n",
        "model_predictions=pd.DataFrame(zip(new_date,new_prediction_lr,new_prediction_svm),columns = [\"Dates\",\"LR\",\"SVR\"])\n",
        "model_predictions.head()"
      ],
      "metadata": {
        "colab": {
          "base_uri": "https://localhost:8080/",
          "height": 206
        },
        "id": "LsFfOHMI-Xky",
        "outputId": "75a6b4b0-202b-46f1-cc83-1cd2a9424138"
      },
      "execution_count": null,
      "outputs": [
        {
          "output_type": "execute_result",
          "data": {
            "text/plain": [
              "       Dates        LR      SVR\n",
              "0 2021-05-03 118907405 47735324\n",
              "1 2021-05-04 119221766 47982843\n",
              "2 2021-05-05 119536128 48232487\n",
              "3 2021-05-06 119850489 48484269\n",
              "4 2021-05-07 120164850 48738203"
            ],
            "text/html": [
              "\n",
              "  <div id=\"df-022ebf34-47fb-4cd2-8585-21ab9c38b0f6\">\n",
              "    <div class=\"colab-df-container\">\n",
              "      <div>\n",
              "<style scoped>\n",
              "    .dataframe tbody tr th:only-of-type {\n",
              "        vertical-align: middle;\n",
              "    }\n",
              "\n",
              "    .dataframe tbody tr th {\n",
              "        vertical-align: top;\n",
              "    }\n",
              "\n",
              "    .dataframe thead th {\n",
              "        text-align: right;\n",
              "    }\n",
              "</style>\n",
              "<table border=\"1\" class=\"dataframe\">\n",
              "  <thead>\n",
              "    <tr style=\"text-align: right;\">\n",
              "      <th></th>\n",
              "      <th>Dates</th>\n",
              "      <th>LR</th>\n",
              "      <th>SVR</th>\n",
              "    </tr>\n",
              "  </thead>\n",
              "  <tbody>\n",
              "    <tr>\n",
              "      <th>0</th>\n",
              "      <td>2021-05-03</td>\n",
              "      <td>118907405</td>\n",
              "      <td>47735324</td>\n",
              "    </tr>\n",
              "    <tr>\n",
              "      <th>1</th>\n",
              "      <td>2021-05-04</td>\n",
              "      <td>119221766</td>\n",
              "      <td>47982843</td>\n",
              "    </tr>\n",
              "    <tr>\n",
              "      <th>2</th>\n",
              "      <td>2021-05-05</td>\n",
              "      <td>119536128</td>\n",
              "      <td>48232487</td>\n",
              "    </tr>\n",
              "    <tr>\n",
              "      <th>3</th>\n",
              "      <td>2021-05-06</td>\n",
              "      <td>119850489</td>\n",
              "      <td>48484269</td>\n",
              "    </tr>\n",
              "    <tr>\n",
              "      <th>4</th>\n",
              "      <td>2021-05-07</td>\n",
              "      <td>120164850</td>\n",
              "      <td>48738203</td>\n",
              "    </tr>\n",
              "  </tbody>\n",
              "</table>\n",
              "</div>\n",
              "      <button class=\"colab-df-convert\" onclick=\"convertToInteractive('df-022ebf34-47fb-4cd2-8585-21ab9c38b0f6')\"\n",
              "              title=\"Convert this dataframe to an interactive table.\"\n",
              "              style=\"display:none;\">\n",
              "        \n",
              "  <svg xmlns=\"http://www.w3.org/2000/svg\" height=\"24px\"viewBox=\"0 0 24 24\"\n",
              "       width=\"24px\">\n",
              "    <path d=\"M0 0h24v24H0V0z\" fill=\"none\"/>\n",
              "    <path d=\"M18.56 5.44l.94 2.06.94-2.06 2.06-.94-2.06-.94-.94-2.06-.94 2.06-2.06.94zm-11 1L8.5 8.5l.94-2.06 2.06-.94-2.06-.94L8.5 2.5l-.94 2.06-2.06.94zm10 10l.94 2.06.94-2.06 2.06-.94-2.06-.94-.94-2.06-.94 2.06-2.06.94z\"/><path d=\"M17.41 7.96l-1.37-1.37c-.4-.4-.92-.59-1.43-.59-.52 0-1.04.2-1.43.59L10.3 9.45l-7.72 7.72c-.78.78-.78 2.05 0 2.83L4 21.41c.39.39.9.59 1.41.59.51 0 1.02-.2 1.41-.59l7.78-7.78 2.81-2.81c.8-.78.8-2.07 0-2.86zM5.41 20L4 18.59l7.72-7.72 1.47 1.35L5.41 20z\"/>\n",
              "  </svg>\n",
              "      </button>\n",
              "      \n",
              "  <style>\n",
              "    .colab-df-container {\n",
              "      display:flex;\n",
              "      flex-wrap:wrap;\n",
              "      gap: 12px;\n",
              "    }\n",
              "\n",
              "    .colab-df-convert {\n",
              "      background-color: #E8F0FE;\n",
              "      border: none;\n",
              "      border-radius: 50%;\n",
              "      cursor: pointer;\n",
              "      display: none;\n",
              "      fill: #1967D2;\n",
              "      height: 32px;\n",
              "      padding: 0 0 0 0;\n",
              "      width: 32px;\n",
              "    }\n",
              "\n",
              "    .colab-df-convert:hover {\n",
              "      background-color: #E2EBFA;\n",
              "      box-shadow: 0px 1px 2px rgba(60, 64, 67, 0.3), 0px 1px 3px 1px rgba(60, 64, 67, 0.15);\n",
              "      fill: #174EA6;\n",
              "    }\n",
              "\n",
              "    [theme=dark] .colab-df-convert {\n",
              "      background-color: #3B4455;\n",
              "      fill: #D2E3FC;\n",
              "    }\n",
              "\n",
              "    [theme=dark] .colab-df-convert:hover {\n",
              "      background-color: #434B5C;\n",
              "      box-shadow: 0px 1px 3px 1px rgba(0, 0, 0, 0.15);\n",
              "      filter: drop-shadow(0px 1px 2px rgba(0, 0, 0, 0.3));\n",
              "      fill: #FFFFFF;\n",
              "    }\n",
              "  </style>\n",
              "\n",
              "      <script>\n",
              "        const buttonEl =\n",
              "          document.querySelector('#df-022ebf34-47fb-4cd2-8585-21ab9c38b0f6 button.colab-df-convert');\n",
              "        buttonEl.style.display =\n",
              "          google.colab.kernel.accessAllowed ? 'block' : 'none';\n",
              "\n",
              "        async function convertToInteractive(key) {\n",
              "          const element = document.querySelector('#df-022ebf34-47fb-4cd2-8585-21ab9c38b0f6');\n",
              "          const dataTable =\n",
              "            await google.colab.kernel.invokeFunction('convertToInteractive',\n",
              "                                                     [key], {});\n",
              "          if (!dataTable) return;\n",
              "\n",
              "          const docLinkHtml = 'Like what you see? Visit the ' +\n",
              "            '<a target=\"_blank\" href=https://colab.research.google.com/notebooks/data_table.ipynb>data table notebook</a>'\n",
              "            + ' to learn more about interactive tables.';\n",
              "          element.innerHTML = '';\n",
              "          dataTable['output_type'] = 'display_data';\n",
              "          await google.colab.output.renderOutput(dataTable, element);\n",
              "          const docLink = document.createElement('div');\n",
              "          docLink.innerHTML = docLinkHtml;\n",
              "          element.appendChild(docLink);\n",
              "        }\n",
              "      </script>\n",
              "    </div>\n",
              "  </div>\n",
              "  "
            ]
          },
          "metadata": {},
          "execution_count": 44
        }
      ]
    },
    {
      "cell_type": "code",
      "source": [
        "model_train=datewise.iloc[:int(datewise.shape[0]*0.85)]\n",
        "valid=datewise.iloc[int(datewise.shape[0]*0.85):]"
      ],
      "metadata": {
        "id": "MJ2eSoQn-dhL"
      },
      "execution_count": null,
      "outputs": []
    },
    {
      "cell_type": "code",
      "source": [
        "holt=Holt(np.asarray(model_train[\"Confirmed\"])).fit(smoothing_level=1.4,smoothing_slope=0.2)\n",
        "y_pred = valid.copy()\n",
        "y_pred[\"Holt\"]=holt.forecast(len(valid))"
      ],
      "metadata": {
        "id": "pzcstTSi-g_1"
      },
      "execution_count": null,
      "outputs": []
    },
    {
      "cell_type": "code",
      "source": [
        "holt_new_date=[]\n",
        "holt_new_prediction=[]\n",
        "for i in range(1,18):\n",
        "    holt_new_date.append(datewise.index[-1]+timedelta(days=i))\n",
        "    holt_new_prediction.append(holt.forecast((len(valid)+i))[-1])\n",
        "\n",
        "model_predictions[\"Holts Linear Model Prediction\"]=holt_new_prediction\n",
        "model_predictions.head()"
      ],
      "metadata": {
        "colab": {
          "base_uri": "https://localhost:8080/",
          "height": 206
        },
        "id": "NNSbYBqH-kiU",
        "outputId": "61fdd2c2-cedd-43e8-f010-aad5263441fc"
      },
      "execution_count": null,
      "outputs": [
        {
          "output_type": "execute_result",
          "data": {
            "text/plain": [
              "       Dates        LR      SVR  Holts Linear Model Prediction\n",
              "0 2021-05-03 118907405 47735324                      138645205\n",
              "1 2021-05-04 119221766 47982843                      139027103\n",
              "2 2021-05-05 119536128 48232487                      139409002\n",
              "3 2021-05-06 119850489 48484269                      139790901\n",
              "4 2021-05-07 120164850 48738203                      140172800"
            ],
            "text/html": [
              "\n",
              "  <div id=\"df-03d8e0b3-c146-4f62-b432-d7b0c51be2b8\">\n",
              "    <div class=\"colab-df-container\">\n",
              "      <div>\n",
              "<style scoped>\n",
              "    .dataframe tbody tr th:only-of-type {\n",
              "        vertical-align: middle;\n",
              "    }\n",
              "\n",
              "    .dataframe tbody tr th {\n",
              "        vertical-align: top;\n",
              "    }\n",
              "\n",
              "    .dataframe thead th {\n",
              "        text-align: right;\n",
              "    }\n",
              "</style>\n",
              "<table border=\"1\" class=\"dataframe\">\n",
              "  <thead>\n",
              "    <tr style=\"text-align: right;\">\n",
              "      <th></th>\n",
              "      <th>Dates</th>\n",
              "      <th>LR</th>\n",
              "      <th>SVR</th>\n",
              "      <th>Holts Linear Model Prediction</th>\n",
              "    </tr>\n",
              "  </thead>\n",
              "  <tbody>\n",
              "    <tr>\n",
              "      <th>0</th>\n",
              "      <td>2021-05-03</td>\n",
              "      <td>118907405</td>\n",
              "      <td>47735324</td>\n",
              "      <td>138645205</td>\n",
              "    </tr>\n",
              "    <tr>\n",
              "      <th>1</th>\n",
              "      <td>2021-05-04</td>\n",
              "      <td>119221766</td>\n",
              "      <td>47982843</td>\n",
              "      <td>139027103</td>\n",
              "    </tr>\n",
              "    <tr>\n",
              "      <th>2</th>\n",
              "      <td>2021-05-05</td>\n",
              "      <td>119536128</td>\n",
              "      <td>48232487</td>\n",
              "      <td>139409002</td>\n",
              "    </tr>\n",
              "    <tr>\n",
              "      <th>3</th>\n",
              "      <td>2021-05-06</td>\n",
              "      <td>119850489</td>\n",
              "      <td>48484269</td>\n",
              "      <td>139790901</td>\n",
              "    </tr>\n",
              "    <tr>\n",
              "      <th>4</th>\n",
              "      <td>2021-05-07</td>\n",
              "      <td>120164850</td>\n",
              "      <td>48738203</td>\n",
              "      <td>140172800</td>\n",
              "    </tr>\n",
              "  </tbody>\n",
              "</table>\n",
              "</div>\n",
              "      <button class=\"colab-df-convert\" onclick=\"convertToInteractive('df-03d8e0b3-c146-4f62-b432-d7b0c51be2b8')\"\n",
              "              title=\"Convert this dataframe to an interactive table.\"\n",
              "              style=\"display:none;\">\n",
              "        \n",
              "  <svg xmlns=\"http://www.w3.org/2000/svg\" height=\"24px\"viewBox=\"0 0 24 24\"\n",
              "       width=\"24px\">\n",
              "    <path d=\"M0 0h24v24H0V0z\" fill=\"none\"/>\n",
              "    <path d=\"M18.56 5.44l.94 2.06.94-2.06 2.06-.94-2.06-.94-.94-2.06-.94 2.06-2.06.94zm-11 1L8.5 8.5l.94-2.06 2.06-.94-2.06-.94L8.5 2.5l-.94 2.06-2.06.94zm10 10l.94 2.06.94-2.06 2.06-.94-2.06-.94-.94-2.06-.94 2.06-2.06.94z\"/><path d=\"M17.41 7.96l-1.37-1.37c-.4-.4-.92-.59-1.43-.59-.52 0-1.04.2-1.43.59L10.3 9.45l-7.72 7.72c-.78.78-.78 2.05 0 2.83L4 21.41c.39.39.9.59 1.41.59.51 0 1.02-.2 1.41-.59l7.78-7.78 2.81-2.81c.8-.78.8-2.07 0-2.86zM5.41 20L4 18.59l7.72-7.72 1.47 1.35L5.41 20z\"/>\n",
              "  </svg>\n",
              "      </button>\n",
              "      \n",
              "  <style>\n",
              "    .colab-df-container {\n",
              "      display:flex;\n",
              "      flex-wrap:wrap;\n",
              "      gap: 12px;\n",
              "    }\n",
              "\n",
              "    .colab-df-convert {\n",
              "      background-color: #E8F0FE;\n",
              "      border: none;\n",
              "      border-radius: 50%;\n",
              "      cursor: pointer;\n",
              "      display: none;\n",
              "      fill: #1967D2;\n",
              "      height: 32px;\n",
              "      padding: 0 0 0 0;\n",
              "      width: 32px;\n",
              "    }\n",
              "\n",
              "    .colab-df-convert:hover {\n",
              "      background-color: #E2EBFA;\n",
              "      box-shadow: 0px 1px 2px rgba(60, 64, 67, 0.3), 0px 1px 3px 1px rgba(60, 64, 67, 0.15);\n",
              "      fill: #174EA6;\n",
              "    }\n",
              "\n",
              "    [theme=dark] .colab-df-convert {\n",
              "      background-color: #3B4455;\n",
              "      fill: #D2E3FC;\n",
              "    }\n",
              "\n",
              "    [theme=dark] .colab-df-convert:hover {\n",
              "      background-color: #434B5C;\n",
              "      box-shadow: 0px 1px 3px 1px rgba(0, 0, 0, 0.15);\n",
              "      filter: drop-shadow(0px 1px 2px rgba(0, 0, 0, 0.3));\n",
              "      fill: #FFFFFF;\n",
              "    }\n",
              "  </style>\n",
              "\n",
              "      <script>\n",
              "        const buttonEl =\n",
              "          document.querySelector('#df-03d8e0b3-c146-4f62-b432-d7b0c51be2b8 button.colab-df-convert');\n",
              "        buttonEl.style.display =\n",
              "          google.colab.kernel.accessAllowed ? 'block' : 'none';\n",
              "\n",
              "        async function convertToInteractive(key) {\n",
              "          const element = document.querySelector('#df-03d8e0b3-c146-4f62-b432-d7b0c51be2b8');\n",
              "          const dataTable =\n",
              "            await google.colab.kernel.invokeFunction('convertToInteractive',\n",
              "                                                     [key], {});\n",
              "          if (!dataTable) return;\n",
              "\n",
              "          const docLinkHtml = 'Like what you see? Visit the ' +\n",
              "            '<a target=\"_blank\" href=https://colab.research.google.com/notebooks/data_table.ipynb>data table notebook</a>'\n",
              "            + ' to learn more about interactive tables.';\n",
              "          element.innerHTML = '';\n",
              "          dataTable['output_type'] = 'display_data';\n",
              "          await google.colab.output.renderOutput(dataTable, element);\n",
              "          const docLink = document.createElement('div');\n",
              "          docLink.innerHTML = docLinkHtml;\n",
              "          element.appendChild(docLink);\n",
              "        }\n",
              "      </script>\n",
              "    </div>\n",
              "  </div>\n",
              "  "
            ]
          },
          "metadata": {},
          "execution_count": 49
        }
      ]
    },
    {
      "cell_type": "code",
      "source": [
        ""
      ],
      "metadata": {
        "id": "zh9ntDymCOkq"
      },
      "execution_count": null,
      "outputs": []
    }
  ]
}